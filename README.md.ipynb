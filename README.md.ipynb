{
 "cells": [
  {
   "cell_type": "raw",
   "metadata": {},
   "source": [
    "# EXPLORATORY DATA ANALYSIS FOR HOME OWNERS IN REAL ESTATE BUSINESS\n",
    "\n",
    "\n",
    "The home owners wants advice about how home renovations might increase value of their homes and by what amounts,\n",
    "All analysis were conducted from the available data and insight are here-in shared for an informed decision.\n",
    "\n",
    "Project Details.\n",
    "The aim for this project was to help the home owners perform better as they renovate their homes.\n",
    "\n",
    "The following data was used for analysis\n",
    "KC_house data\n",
    "\n",
    "\n",
    " some exploritory analysis was performed and  some business recommendations were shared with the home owners,the analyses was guided by the following Objectives;\n",
    ".Is the price of a house affected by it's location\n",
    "Does the age of a house affect it's price\n",
    "Does the design affect the price of a house\n",
    "Does the number of the bedrooms,bathrooms and floors affect the price\n",
    "\n",
    "Conclusion.\n",
    "Based on the findings, the following was concluded;\n",
    "\n",
    "The more bedrooms the house has,the higher the price\n",
    "\n",
    "For the houses built years ago,during renovation,the sqft_living area can be considered to be large and this will attract more clients\n",
    "\n",
    "The number of bedrooms is affecting the pricing of the houses,therefore,while renovating houses with less than 3 bedrooms,it should have standards of those with more than 3 bedrooms in-terms of conditions and grade\n",
    "Also,for the houses with basement,this can be converted in a creative way to have spacious rooms and especially for the houses with 1 and 2 bedrooms.\n",
    "\n",
    "The location of the houses was noted not to affect the pricing significantly,this should not limit the setting of the prices if the most significant things :Living room space and  number of bedrooms is considered.\n",
    "\n",
    "The more spacious the sqft_living is the higher the price\n",
    "\n",
    "BUSINESS RECOMMENDATIONS\n",
    "After the above Conclusions,the following can be recommended to the business:\n",
    "1.The number of bedrooms is relevant while setting price of the houses\n",
    "2.The space of the living rooms is a determinant and should be considered\n",
    "3.For the houses with 1 or 2 bedrooms and have basement,the basements can be worked on creating more space for the living room."
   ]
  }
 ],
 "metadata": {
  "kernelspec": {
   "display_name": "Python (learn-env)",
   "language": "python",
   "name": "learn-env"
  },
  "language_info": {
   "codemirror_mode": {
    "name": "ipython",
    "version": 3
   },
   "file_extension": ".py",
   "mimetype": "text/x-python",
   "name": "python",
   "nbconvert_exporter": "python",
   "pygments_lexer": "ipython3",
   "version": "3.10.9"
  }
 },
 "nbformat": 4,
 "nbformat_minor": 4
}
